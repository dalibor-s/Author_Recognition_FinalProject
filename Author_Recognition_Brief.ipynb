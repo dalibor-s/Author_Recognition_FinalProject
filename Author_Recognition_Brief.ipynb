{
 "cells": [
  {
   "cell_type": "markdown",
   "metadata": {
    "id": "niaZUx50s2Me"
   },
   "source": [
    "# Author Recognition\n",
    "\n",
    "The goal of your project is to create an NLP classifier that given a paragraph from a famous classical book, will be able to predict the text's author. \n",
    "\n",
    "**\"Is this a dagger which I see before me,\n",
    "The handle toward my hand? Come, let me clutch thee.\n",
    "Art thou not, fatal vision, sensible\n",
    "To feeling as to sight? Or art thou but\n",
    "A dagger of the mind, a false creation,\n",
    "Proceeding from the heat-oppressèd brain?\n",
    "I see thee yet, in form as palpable\n",
    "As this which now I draw.\"* - Shakespeare\n",
    "\n",
    "**\"At some ideas you stand perplexed, especially at the sight of sin. And you must ask yourself whether to combat it with force or with humble love. Always decide to combat it with humble love. If you decide this once and for all, you can conquer the whole world! Humble love is a frightening force, of which there is nothing stronger.\"* - Dostoevsky\n",
    "\n",
    "\n",
    "**\"After this he was not seen again on any nocturnal expedition. The twins lay in wait for him on several occasions, and strewed the passages with nutshells every night to the great annoyance of their parents and the servants, but it was of no avail. It was quite evident that his feelings were so wounded that he would not appear. Mr. Otis consequently resumed his great work on the history of the Democratic Party, on which he had been engaged for some years; Mrs. Otis organized a wonderful clam-bake, which amazed the whole county; the boys took to lacrosse euchre, poker, and other American national games, and Virginia rode about the lanes on her pony, accompanied by the young Duke of Cheshire, who had come to spend the last week of his holidays at Canterville Chase. It was generally assumed that the ghost had gone away, and, in fact, Mr. Otis wrote a letter to that effect to Lord Canterville, who, in reply, expressed his great pleasure at the news, and sent his best congratulations to the Minister's worthy wife.\"* - Oscar Wild \n",
    "\n"
   ]
  },
  {
   "cell_type": "markdown",
   "metadata": {
    "id": "u823cXPI0QNc"
   },
   "source": [
    "# Working Plan\n",
    "\n",
    "\n",
    "\n",
    "1. Phase 1 : Dataset\n",
    "    * Team Planning\n",
    "    * Full git project Integration\n",
    "    * General Project Research\n",
    "    * Data Acquisition*\n",
    "    * Dataset Preparation\n",
    "\n",
    "2. Phase 2 : Training\n",
    "    * Research about NLP model\n",
    "    * Compose NLP model\n",
    "        * Text tokenization\n",
    "        * Text Preprocessing\n",
    "        * Sentence vectorization (Sentence embedding)\n",
    "        * Make classifier Model\n",
    "    * Generate more data if needed\n",
    "    * Fine tuning of your model\n",
    "\n",
    "\n",
    "3. Phase 3 : Deployment\n",
    "    * Perform model evaluation: Accuracy/Precision/Recall, ROC curve\n",
    "    * Explain Model*\n",
    "    * Model Deploy (Git)\n",
    "    * Write git Readme.md file\n",
    "    * Receive Feedback from PM"
   ]
  },
  {
   "cell_type": "markdown",
   "metadata": {
    "id": "vIGo_fGNSXys"
   },
   "source": [
    "## 0. Understand the task, Find & Load Data\n",
    "- Here you may use manually found data, data from libraries in python etc. (We will discuss this in more detail)\n"
   ]
  },
  {
   "cell_type": "code",
   "execution_count": null,
   "metadata": {
    "id": "Xj5WSaLYSXys"
   },
   "outputs": [],
   "source": []
  },
  {
   "cell_type": "markdown",
   "metadata": {
    "id": "XiazHmxRSXy0"
   },
   "source": [
    "## 1. Text Preprocessing (Should be done based on the model used)\n",
    " - Tokenization\n",
    " - Lowercase\n",
    " - Stopwords removal"
   ]
  },
  {
   "cell_type": "code",
   "execution_count": null,
   "metadata": {
    "id": "kgOelHW2SXyx"
   },
   "outputs": [],
   "source": []
  },
  {
   "cell_type": "markdown",
   "metadata": {
    "id": "jBqf-n2enJAI"
   },
   "source": [
    "## 2. Define Text Classification Model\n",
    "\n",
    "* TF-IDF sentence vector encodings\n",
    "* Calculate paragraph level metrics, such as average sentence length, average syllables per word etc, number of punctuation, number of word types.\n",
    "* Embedding layer with RNN (Many to one) \n",
    "* Word2vec\n",
    "* BPEmbedding : https://github.com/bheinzerling/bpemb\n",
    "* Transformers - Hugging Face: (https://huggingface.co/docs/transformers/index) "
   ]
  },
  {
   "cell_type": "code",
   "execution_count": null,
   "metadata": {
    "id": "ve5_cjilSXy4"
   },
   "outputs": [],
   "source": []
  },
  {
   "cell_type": "markdown",
   "metadata": {
    "id": "JGyhoU96SXy7"
   },
   "source": [
    "## 3. Model evaluation and comparisons\n",
    "- Using different metrics such as accuracy, precision, recall"
   ]
  },
  {
   "cell_type": "code",
   "execution_count": null,
   "metadata": {
    "id": "L0_vsmimSXy8"
   },
   "outputs": [],
   "source": []
  },
  {
   "cell_type": "markdown",
   "metadata": {
    "id": "C4TYzMqQSXy_"
   },
   "source": [
    "# Example :  \n",
    "   Provide several examples of predictions along with a softmax score probability"
   ]
  },
  {
   "cell_type": "code",
   "execution_count": null,
   "metadata": {
    "id": "b5DpSTA-SXy_"
   },
   "outputs": [],
   "source": []
  },
  {
   "cell_type": "markdown",
   "metadata": {
    "id": "c0bO67I4jDos"
   },
   "source": [
    "## 4. Model Explainability \n",
    "* Do the predictions of your model make sense?"
   ]
  },
  {
   "cell_type": "code",
   "execution_count": null,
   "metadata": {
    "id": "E3ywphL8jE_I"
   },
   "outputs": [],
   "source": []
  },
  {
   "cell_type": "markdown",
   "metadata": {
    "id": "-yo2Rs_5SXzG"
   },
   "source": [
    "## 5. Discussion, Conclusions, Future improvements\n"
   ]
  },
  {
   "cell_type": "code",
   "execution_count": null,
   "metadata": {
    "id": "HSU-oBptSXzG"
   },
   "outputs": [],
   "source": []
  }
 ],
 "metadata": {
  "colab": {
   "collapsed_sections": [],
   "name": "Author_Recognition_Brief.ipynb",
   "provenance": []
  },
  "kernelspec": {
   "display_name": "Python 3 (ipykernel)",
   "language": "python",
   "name": "python3"
  },
  "language_info": {
   "codemirror_mode": {
    "name": "ipython",
    "version": 3
   },
   "file_extension": ".py",
   "mimetype": "text/x-python",
   "name": "python",
   "nbconvert_exporter": "python",
   "pygments_lexer": "ipython3",
   "version": "3.8.11"
  }
 },
 "nbformat": 4,
 "nbformat_minor": 1
}
